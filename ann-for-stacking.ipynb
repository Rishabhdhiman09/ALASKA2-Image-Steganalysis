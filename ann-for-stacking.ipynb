{
 "cells": [
  {
   "cell_type": "code",
   "execution_count": 1,
   "metadata": {
    "_cell_guid": "b1076dfc-b9ad-4769-8c92-a6c4dae69d19",
    "_uuid": "8f2839f25d086af736a60e9eeb907d3b93b6e0e5"
   },
   "outputs": [],
   "source": [
    "import pandas as pd\n",
    "import numpy as np\n",
    "import matplotlib.pyplot as plt\n",
    "import seaborn as sns\n",
    "import torch\n",
    "import torch.nn as nn\n",
    "from torch.utils.data import DataLoader\n",
    "from torch.autograd import Variable"
   ]
  },
  {
   "cell_type": "code",
   "execution_count": 2,
   "metadata": {},
   "outputs": [],
   "source": [
    "train = pd.read_csv(\"../input/ensembling-and-stacking-gpu-models/ensemble_req.csv\")\n",
    "test = pd.read_csv(\"../input/ensembling-and-stacking-gpu-models/test_req.csv\").iloc[:, 1:-1].values\n",
    "\n",
    "X_train = train.iloc[:, 1:-1].values\n",
    "y_train = pd.get_dummies(train[\"label\"]).values"
   ]
  },
  {
   "cell_type": "markdown",
   "execution_count": null,
   "metadata": {},
   "source": [
    "# ANN Model"
   ]
  },
  {
   "cell_type": "code",
   "execution_count": 3,
   "metadata": {},
   "outputs": [],
   "source": [
    "class ANNModel(nn.Module):\n",
    "    def __init__(self, input_shape, hidden1, hidden2, hidden3, outshape):\n",
    "        self.input_shape = input_shape\n",
    "        self.hidden1 = hidden1\n",
    "        self.hidden2 = hidden2\n",
    "        self.hidden3 = hidden3\n",
    "        self.hidden4 = hidden4\n",
    "        self.outshape = outshape\n",
    "        \n",
    "        super().__init__()\n",
    "        \n",
    "        self.fc1 = nn.Linear(self.input_shape, self.hidden1)\n",
    "        self.relu1 = nn.ReLU()\n",
    "        \n",
    "        self.fc2 = nn.Linear(self.hidden1, self.hidden2)\n",
    "        self.relu2 = nn.ReLU()\n",
    "        \n",
    "        self.fc3 = nn.Linear(self.hidden2, self.hidden3)\n",
    "        self.relu3 = nn.ReLU()\n",
    "        \n",
    "        self.fc4 = nn.Linear(self.hidden3, self.hidden3)\n",
    "        self.relu4 = nn.ReLU()\n",
    "        \n",
    "        self.fc5 = nn.Linear(self.hidden3, self.hidden4)\n",
    "        self.relu5 = nn.ReLU()\n",
    "        \n",
    "        self.final = nn.Linear(self.hidden4, self.outshape)\n",
    "        \n",
    "    def forward(self, x):\n",
    "        out = self.fc1(x)\n",
    "        out = self.relu1(out)\n",
    "        \n",
    "        out = self.fc2(out)\n",
    "        out = self.relu2(out)\n",
    "        \n",
    "        out = self.fc3(out)\n",
    "        out = self.relu3(out)\n",
    "        \n",
    "        out = self.fc4(out)\n",
    "        out = self.relu4(out)\n",
    "        \n",
    "        out = self.fc5(out)\n",
    "        out = self.relu5(out)\n",
    "        \n",
    "        out = self.final(out)\n",
    "        \n",
    "        return out\n",
    "    \n",
    "\n",
    "input_shape = 10 \n",
    "hidden1 = 30\n",
    "hidden2 = 40\n",
    "hidden3 = 40\n",
    "hidden4 = 16\n",
    "outshape = 4\n",
    "\n",
    "\n",
    "\n",
    "model = ANNModel(input_shape,\n",
    "                    hidden1,\n",
    "                    hidden2,\n",
    "                    hidden3,\n",
    "                    outshape)\n"
   ]
  },
  {
   "cell_type": "code",
   "execution_count": 4,
   "metadata": {},
   "outputs": [],
   "source": [
    "learning_rate = 0.02\n",
    "optimizer = torch.optim.SGD(model.parameters(), lr=learning_rate)"
   ]
  },
  {
   "cell_type": "code",
   "execution_count": 5,
   "metadata": {},
   "outputs": [],
   "source": [
    "class LabelSmoothing(nn.Module):\n",
    "    def __init__(self, smoothing = 0.05):\n",
    "        self.confidence = 1 - smoothing\n",
    "        self.smoothing = smoothing\n",
    "        super().__init__()\n",
    "        \n",
    "    def forward(self, x, target):\n",
    "            x = x.float()\n",
    "            target = target.float()\n",
    "            \n",
    "            logprobs = torch.nn.functional.log_softmax(x, dim = -1)\n",
    "            nll_loss = -logprobs * target\n",
    "            nll_loss = nll_loss.sum(-1)\n",
    "    \n",
    "            smooth_loss = -logprobs.mean(dim=-1)\n",
    "\n",
    "            loss = self.confidence * nll_loss + self.smoothing * smooth_loss\n",
    "            return loss.mean()"
   ]
  },
  {
   "cell_type": "code",
   "execution_count": 6,
   "metadata": {},
   "outputs": [],
   "source": [
    "X = torch.from_numpy(X_train).type(torch.FloatTensor)\n",
    "y = torch.from_numpy(y_train).type(torch.LongTensor)\n",
    "test_data = torch.from_numpy(test).type(torch.FloatTensor)"
   ]
  },
  {
   "cell_type": "code",
   "execution_count": 7,
   "metadata": {},
   "outputs": [],
   "source": [
    "train = torch.utils.data.TensorDataset(X, y)\n",
    "test = torch.utils.data.TensorDataset(test_data)"
   ]
  },
  {
   "cell_type": "code",
   "execution_count": 8,
   "metadata": {},
   "outputs": [],
   "source": [
    "train_loader = DataLoader(train, batch_size = 32, shuffle = True)\n",
    "test_loader = DataLoader(test, batch_size = 32, shuffle = False)"
   ]
  },
  {
   "cell_type": "code",
   "execution_count": 9,
   "metadata": {},
   "outputs": [
    {
     "name": "stdout",
     "output_type": "stream",
     "text": [
      "loss = 1.3757556676864624 \t epoch no 0\n"
     ]
    }
   ],
   "source": [
    "for epoch in range(10):\n",
    "    for i, (X, y) in enumerate(train_loader):\n",
    "        xtr = Variable(X)\n",
    "        ytr = Variable(y)\n",
    "        # Clear gradients\n",
    "        optimizer.zero_grad()\n",
    "        \n",
    "        # Forward propagation\n",
    "        outputs = model(xtr)\n",
    "        \n",
    "        # Calculate softmax and ross entropy loss\n",
    "        lossClass = LabelSmoothing()\n",
    "        loss = lossClass.forward(outputs, ytr)\n",
    "        \n",
    "        # Calculating gradients\n",
    "        loss.backward()\n",
    "        \n",
    "        # Update parameters\n",
    "        optimizer.step()\n",
    "    if epoch % 10 == 0:    \n",
    "        print(f\"loss = {loss.item()} \\t epoch no {epoch}\")"
   ]
  },
  {
   "cell_type": "code",
   "execution_count": 10,
   "metadata": {},
   "outputs": [
    {
     "name": "stdout",
     "output_type": "stream",
     "text": [
      "156\r"
     ]
    }
   ],
   "source": [
    "results = []\n",
    "\n",
    "for i, (X) in enumerate(test_loader):\n",
    "#     print(X)\n",
    "    xte = Variable(X[0])\n",
    "    preds = model(xte)\n",
    "    y_pred = 1 - nn.functional.softmax(preds, dim=1).detach().numpy()[:,0]\n",
    "    results.extend(y_pred)\n",
    "    \n",
    "    print(i, end = \"\\r\")"
   ]
  },
  {
   "cell_type": "code",
   "execution_count": 11,
   "metadata": {},
   "outputs": [],
   "source": [
    "df = pd.DataFrame()\n",
    "df[\"Id\"] = pd.read_csv(\"../input/ensembling-and-stacking-gpu-models/test_req.csv\").iloc[:, -1].values\n",
    "df[\"Label\"] = results"
   ]
  },
  {
   "cell_type": "code",
   "execution_count": 12,
   "metadata": {},
   "outputs": [],
   "source": [
    "df.set_index(\"Id\", inplace = True)"
   ]
  },
  {
   "cell_type": "code",
   "execution_count": 13,
   "metadata": {},
   "outputs": [
    {
     "data": {
      "text/plain": [
       "<matplotlib.axes._subplots.AxesSubplot at 0x7fc6abc7f650>"
      ]
     },
     "execution_count": 13,
     "metadata": {},
     "output_type": "execute_result"
    },
    {
     "data": {
      "image/png": "[encoded data removed]",
      "text/plain": [
       "<Figure size 432x288 with 1 Axes>"
      ]
     },
     "metadata": {
      "needs_background": "light"
     },
     "output_type": "display_data"
    }
   ],
   "source": [
    "( df[\"Label\"]).hist(bins= 100)"
   ]
  },
  {
   "cell_type": "code",
   "execution_count": 14,
   "metadata": {},
   "outputs": [],
   "source": [
    "df.to_csv(\"submission.csv\")"
   ]
  }
 ],
 "metadata": {
  "kernelspec": {
   "display_name": "Python 3",
   "language": "python",
   "name": "python3"
  },
  "language_info": {
   "codemirror_mode": {
    "name": "ipython",
    "version": 3
   },
   "file_extension": ".py",
   "mimetype": "text/x-python",
   "name": "python",
   "nbconvert_exporter": "python",
   "pygments_lexer": "ipython3",
   "version": "3.7.6"
  }
 },
 "nbformat": 4,
 "nbformat_minor": 4
}
